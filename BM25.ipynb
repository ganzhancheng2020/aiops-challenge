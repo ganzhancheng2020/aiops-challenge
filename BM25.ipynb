{
 "cells": [
  {
   "cell_type": "code",
   "execution_count": 3,
   "id": "80281318-7a91-4542-aeda-fa577e5806ff",
   "metadata": {
    "execution": {
     "iopub.execute_input": "2024-06-18T12:49:19.218849Z",
     "iopub.status.busy": "2024-06-18T12:49:19.218505Z",
     "iopub.status.idle": "2024-06-18T12:49:19.223087Z",
     "shell.execute_reply": "2024-06-18T12:49:19.222494Z",
     "shell.execute_reply.started": "2024-06-18T12:49:19.218828Z"
    },
    "tags": []
   },
   "outputs": [],
   "source": [
    "from llama_index.core import SimpleDirectoryReader\n",
    "from llama_index.core.embeddings import BaseEmbedding\n",
    "from llama_index.core.extractors import SummaryExtractor\n",
    "from llama_index.core.ingestion import IngestionPipeline\n",
    "from llama_index.core.llms.llm import LLM\n",
    "from llama_index.core.vector_stores.types import BasePydanticVectorStore\n",
    "from llama_index.core.node_parser import SentenceSplitter\n",
    "from llama_index.core.schema import Document, MetadataMode\n",
    "from llama_index.vector_stores.qdrant import QdrantVectorStore\n",
    "from llama_index.core import VectorStoreIndex\n",
    "from llama_index.embeddings.huggingface import HuggingFaceEmbedding\n",
    "from llama_index.core import Settings\n",
    "from ReadLoad import read_jsonl, write_jsonl\n",
    "from tqdm import tqdm\n",
    "\n",
    "import nest_asyncio\n",
    "\n",
    "nest_asyncio.apply()"
   ]
  },
  {
   "cell_type": "markdown",
   "id": "395ccab4-bffb-4d10-95c7-f987b16ebd26",
   "metadata": {},
   "source": [
    "### load document"
   ]
  },
  {
   "cell_type": "code",
   "execution_count": 12,
   "id": "1a5614da-7582-47de-8422-4c55fafb22c5",
   "metadata": {
    "ExecutionIndicator": {
     "show": true
    },
    "execution": {
     "iopub.execute_input": "2024-06-18T15:20:53.857480Z",
     "iopub.status.busy": "2024-06-18T15:20:53.857118Z",
     "iopub.status.idle": "2024-06-18T15:20:59.362189Z",
     "shell.execute_reply": "2024-06-18T15:20:59.361666Z",
     "shell.execute_reply.started": "2024-06-18T15:20:53.857449Z"
    },
    "tags": []
   },
   "outputs": [],
   "source": [
    "# read data\n",
    "def read_data(path: str = \"data\") -> list[Document]:\n",
    "    reader = SimpleDirectoryReader(\n",
    "        input_dir=path,\n",
    "        recursive=True,\n",
    "        required_exts=[\n",
    "            \".txt\",\n",
    "        ],\n",
    "    )\n",
    "    return reader.load_data()\n",
    "\n",
    "\n",
    "# data_splite\n",
    "data = read_data(\"./aiops2024-challenge-dataset/data\")"
   ]
  },
  {
   "cell_type": "code",
   "execution_count": 16,
   "id": "00cc1b79-86d0-4b44-97a4-411466c2b857",
   "metadata": {
    "ExecutionIndicator": {
     "show": true
    },
    "execution": {
     "iopub.execute_input": "2024-06-18T15:22:03.105595Z",
     "iopub.status.busy": "2024-06-18T15:22:03.105240Z",
     "iopub.status.idle": "2024-06-18T15:22:03.110068Z",
     "shell.execute_reply": "2024-06-18T15:22:03.109399Z",
     "shell.execute_reply.started": "2024-06-18T15:22:03.105574Z"
    },
    "tags": []
   },
   "outputs": [
    {
     "data": {
      "text/plain": [
       "{'file_path': '/mnt/workspace/aiops2024-challenge-dataset/data/director/License申请操作指南/1602298756694.txt',\n",
       " 'file_name': '1602298756694.txt',\n",
       " 'file_type': 'text/plain',\n",
       " 'file_size': 5087,\n",
       " 'creation_date': '2024-06-18',\n",
       " 'last_modified_date': '2024-03-12'}"
      ]
     },
     "execution_count": 16,
     "metadata": {},
     "output_type": "execute_result"
    }
   ],
   "source": [
    "data[0].metadata"
   ]
  },
  {
   "cell_type": "markdown",
   "id": "7776ed1e-a36d-480b-bf4f-c0c8dabb4e96",
   "metadata": {
    "tags": []
   },
   "source": [
    "### Setup Embeding"
   ]
  },
  {
   "cell_type": "code",
   "execution_count": 6,
   "id": "6873eb5e-4e7b-43db-bc8e-e045458ac9ec",
   "metadata": {
    "execution": {
     "iopub.execute_input": "2024-06-18T12:49:38.918093Z",
     "iopub.status.busy": "2024-06-18T12:49:38.917745Z",
     "iopub.status.idle": "2024-06-18T12:49:41.797078Z",
     "shell.execute_reply": "2024-06-18T12:49:41.796560Z",
     "shell.execute_reply.started": "2024-06-18T12:49:38.918074Z"
    },
    "tags": []
   },
   "outputs": [],
   "source": [
    "# embeding\n",
    "embeding = HuggingFaceEmbedding(\n",
    "        model_name=\"bge-small-zh-v1.5\",\n",
    "        cache_folder=\"./\",\n",
    "        embed_batch_size=512,\n",
    "    )\n",
    "Settings.embed_model = embeding"
   ]
  },
  {
   "cell_type": "markdown",
   "id": "34436e57-dd4b-436e-87e1-a0ef359c9be0",
   "metadata": {
    "jp-MarkdownHeadingCollapsed": true,
    "tags": []
   },
   "source": [
    "### Setup LLM"
   ]
  },
  {
   "cell_type": "code",
   "execution_count": 24,
   "id": "cf2ec307-3558-4d3d-b21d-0f5c84846f9f",
   "metadata": {
    "ExecutionIndicator": {
     "show": true
    },
    "execution": {
     "iopub.execute_input": "2024-06-18T15:56:26.659546Z",
     "iopub.status.busy": "2024-06-18T15:56:26.659186Z",
     "iopub.status.idle": "2024-06-18T15:56:26.663244Z",
     "shell.execute_reply": "2024-06-18T15:56:26.662649Z",
     "shell.execute_reply.started": "2024-06-18T15:56:26.659525Z"
    },
    "tags": []
   },
   "outputs": [],
   "source": [
    "from zhipuLLM import GLM\n",
    "Settings.llm = GLM()\n",
    "llm = GLM()"
   ]
  },
  {
   "cell_type": "markdown",
   "id": "80060f17-f332-4bcf-becf-7e65c9863f62",
   "metadata": {},
   "source": [
    "### setup matedata"
   ]
  },
  {
   "cell_type": "code",
   "execution_count": 67,
   "id": "f4f7ac17-1b6b-423d-97db-9895b05c8327",
   "metadata": {
    "ExecutionIndicator": {
     "show": true
    },
    "execution": {
     "iopub.execute_input": "2024-06-18T16:12:32.904012Z",
     "iopub.status.busy": "2024-06-18T16:12:32.903610Z",
     "iopub.status.idle": "2024-06-18T16:13:40.747334Z",
     "shell.execute_reply": "2024-06-18T16:13:40.746861Z",
     "shell.execute_reply.started": "2024-06-18T16:12:32.903988Z"
    },
    "tags": []
   },
   "outputs": [
    {
     "name": "stderr",
     "output_type": "stream",
     "text": [
      "100%|██████████| 1/1 [00:03<00:00,  3.05s/it]\n",
      "100%|██████████| 2/2 [00:21<00:00, 10.88s/it]\n",
      "100%|██████████| 2/2 [00:31<00:00, 15.76s/it]\n",
      "100%|██████████| 2/2 [00:08<00:00,  4.35s/it]\n"
     ]
    }
   ],
   "source": [
    "from llama_index.core.node_parser import SimpleNodeParser\n",
    "from llama_index.core.extractors import (\n",
    "    SummaryExtractor,\n",
    "    QuestionsAnsweredExtractor,\n",
    "    TitleExtractor,\n",
    "    KeywordExtractor,\n",
    "    BaseExtractor\n",
    ")\n",
    "from llama_index.core.node_parser import SentenceSplitter\n",
    "\n",
    "#construct text splitter to split texts into chunks for processing\n",
    "#text_splitter = SentenceSplitter(chunk_size=1024, chunk_overlap=128)\n",
    "\n",
    "#create metadata extractor\n",
    "extractors=[\n",
    "    TitleExtractor(nodes=1, llm=llm), #title is located on the first page, so pass 1 to nodes param\n",
    "    QuestionsAnsweredExtractor(questions=3, llm=llm), #let's extract 3 questions for each node, you can customize this.\n",
    "    SummaryExtractor(summaries=[\"prev\", \"self\"], llm=llm), #let's extract the summary for both previous node and current node.\n",
    "    KeywordExtractor(keywords=10, llm=llm) #let's extract 10 keywords for each node.\n",
    "]\n",
    "\n",
    "\n",
    "#create node parser to parse nodes from document\n",
    "transformations = extractors\n",
    "\n",
    "from llama_index.core.ingestion import IngestionPipeline\n",
    "pipeline = IngestionPipeline(transformations=transformations)\n",
    "\n",
    "nodes = pipeline.run(documents=data[:2])\n",
    "\n",
    "# for file in data:\n",
    "#     file.metadata['file_name'] = file.text.splitlines()[0]\n",
    "#     file.metadata['document'] = file.metadata['file_path'].split('/')[5]\n",
    "# data[0].metadata\n",
    "\n"
   ]
  },
  {
   "cell_type": "code",
   "execution_count": 73,
   "id": "3edb5284-a968-4901-86ae-d292d764cc14",
   "metadata": {
    "ExecutionIndicator": {
     "show": true
    },
    "execution": {
     "iopub.execute_input": "2024-06-18T16:17:59.094365Z",
     "iopub.status.busy": "2024-06-18T16:17:59.094014Z",
     "iopub.status.idle": "2024-06-18T16:17:59.098320Z",
     "shell.execute_reply": "2024-06-18T16:17:59.097834Z",
     "shell.execute_reply.started": "2024-06-18T16:17:59.094345Z"
    },
    "tags": []
   },
   "outputs": [
    {
     "data": {
      "text/plain": [
       "{'file_path': '/mnt/workspace/aiops2024-challenge-dataset/data/director/License申请操作指南/1602298756694.txt',\n",
       " 'file_name': '1602298756694.txt',\n",
       " 'file_type': 'text/plain',\n",
       " 'file_size': 5087,\n",
       " 'creation_date': '2024-06-18',\n",
       " 'last_modified_date': '2024-03-12',\n",
       " 'document_title': '\"Comprehensive Guide: Applying for a TECS Director License - Step-by-Step Process, Eligibility Requirements, and Procedures\"',\n",
       " 'questions_this_excerpt_can_answer': '1. What are the specific steps required to apply for a TECS Director License, and which browsers are recommended for this process?\\n\\n   Higher-level summary: The context provides a detailed step-by-step guide on how to apply for a TECS Director License and suggests compatible browsers for the application process.\\n\\n2. How does one acquire the License application excel template for TECS Director, and what are the differences between the available versions of the TECS Director License?\\n\\n   Higher-level summary: The document outlines the method to obtain the excel template for the License application and describes the various versions of TECS Director Licenses, including their distinct features and configurations.\\n\\n3. What should an applicant do in case they receive a notification of failed License file production from the CSC system after submitting their TECS Director License application?\\n\\n   Higher-level summary: The context includes a section on the necessary actions to take if the License file production fails, providing a specific solution for an issue that might occur during the application process. \\n\\nThese questions are specific to the process outlined in the provided context and would unlikely be answered in such detail outside of this document.',\n",
       " 'section_summary': 'The section provides a comprehensive guide for applying for a TECS Director License, outlining the necessary steps, eligible requirements, and procedures. Key topics and entities include:\\n\\n1. **Application Process**: Describes the step-by-step process to apply for the TECS Director License, which includes:\\n   - Accessing the application URL.\\n   - Filling out application information.\\n   - Submitting the application.\\n   - Downloading the License file.\\n\\n2. **Recommended Browsers**: Suggests using IE11 or higher, and Google Chrome 80 or higher for the application process.\\n\\n3. **Basic Application Information**: Details the required information for the application, such as:\\n   - Application type (contract project, non-contract project, or R&D testing).\\n   - Product line (PDM) and product category (CloudInfra).\\n   - Version selection.\\n   - Reason for application.\\n   - Current network License status.\\n\\n4. **License Application Excel Template**: Explains how to obtain and use the excel template for the License application, which includes:\\n   - Different versions of TECS Director Licenses (Basic, Standard, Ultimate, Customize).\\n   - Content restrictions and lock features in the excel sheet.\\n   - Authorization content selection based on official contracts.\\n\\n5. **Multiple License Templates**: Mentions that TECS Director supports multiple License application templates with different features and configurations since CMS-DirV8.22.20.06 version.\\n\\n6. **License Templates Configuration**: Explains the configuration options available for each version of TECS Director:\\n   - Basic: Limited to IaaS cloud management and operations.\\n   - Standard: Adds PaaS middleware services and container management on top of the Basic version.\\n   - Ultimate: Enhances the Standard version with additional features like heterogeneous resource pool management and public cloud management.\\n   - Customize: Allows for customization based on operator/user needs.\\n\\n7. **Submission Process**: Outlines how to submit the License application, including assigning relevant groups and individuals for notification.\\n\\n8. **Downloading License File**: Provides instructions on how to download the License file once it is ready and notified by the CSC system.\\n\\n9. **Error Handling**: Explains the procedure to follow in case of a failed License file production notification, recommending modification and resubmission of the application.\\n\\nThe summary highlights the key aspects that users need to consider and follow when applying for a TECS Director License, ensuring a smooth and accurate application process.',\n",
       " 'excerpt_keywords': 'TECS Director License, Application Process, Eligibility Requirements, Step-by-Step Guide, Recommended Browsers, Excel Template, Version Selection, License Configuration, CSC System, Error Handling.'}"
      ]
     },
     "execution_count": 73,
     "metadata": {},
     "output_type": "execute_result"
    }
   ],
   "source": [
    "nodes[0].metadata"
   ]
  },
  {
   "cell_type": "markdown",
   "id": "1d885195-6823-413a-8533-042169aa0f56",
   "metadata": {},
   "source": [
    "### Index"
   ]
  },
  {
   "cell_type": "code",
   "execution_count": 8,
   "id": "95e19145-64b9-4df0-acb9-c821c9e469c7",
   "metadata": {
    "ExecutionIndicator": {
     "show": false
    },
    "execution": {
     "iopub.execute_input": "2024-06-18T12:49:46.119155Z",
     "iopub.status.busy": "2024-06-18T12:49:46.118643Z",
     "iopub.status.idle": "2024-06-18T12:52:19.773504Z",
     "shell.execute_reply": "2024-06-18T12:52:19.772961Z",
     "shell.execute_reply.started": "2024-06-18T12:49:46.119130Z"
    },
    "tags": []
   },
   "outputs": [],
   "source": [
    "#vector_index = VectorStoreIndex(nodes)\n",
    "#vector_index = VectorStoreIndex.from_documents(data)\n",
    "index = VectorStoreIndex(nodes=nodes)"
   ]
  },
  {
   "cell_type": "markdown",
   "id": "e1f2098b-2389-449e-8218-2fd49912a71c",
   "metadata": {
    "execution": {
     "iopub.execute_input": "2024-06-17T15:40:30.701286Z",
     "iopub.status.busy": "2024-06-17T15:40:30.700890Z",
     "iopub.status.idle": "2024-06-17T15:40:30.703774Z",
     "shell.execute_reply": "2024-06-17T15:40:30.703311Z",
     "shell.execute_reply.started": "2024-06-17T15:40:30.701261Z"
    },
    "tags": []
   },
   "source": [
    "### Retriever"
   ]
  },
  {
   "cell_type": "code",
   "execution_count": 11,
   "id": "9fbf3075-d8b6-42b4-aab0-b1a25b8f26b0",
   "metadata": {
    "ExecutionIndicator": {
     "show": true
    },
    "execution": {
     "iopub.execute_input": "2024-06-18T13:03:42.631792Z",
     "iopub.status.busy": "2024-06-18T13:03:42.631442Z",
     "iopub.status.idle": "2024-06-18T13:04:22.974200Z",
     "shell.execute_reply": "2024-06-18T13:04:22.973682Z",
     "shell.execute_reply.started": "2024-06-18T13:03:42.631771Z"
    },
    "tags": []
   },
   "outputs": [],
   "source": [
    "#!pip install llama-index-retrievers-bm25\n",
    "from llama_index.retrievers.bm25 import BM25Retriever\n",
    "from llama_index.core.retrievers import VectorIndexRetriever\n",
    "import jieba\n",
    "\n",
    "\n",
    "def chinese_tokenizer(text: str) -> list[str]:\n",
    "    tokens = jieba.lcut(text)\n",
    "    # TOOD: 短语不可分割\n",
    "    # TODO: remove stopwords\n",
    "    return tokens\n",
    "\n",
    "bm25_retriever = BM25Retriever.from_defaults(\n",
    "    docstore=vector_index.docstore,  # 使用从 VectorStoreIndex 获取的文档存储\n",
    "    similarity_top_k=3,        # 返回最相似的前3个文档\n",
    "    tokenizer=chinese_tokenizer # 使用中文分词器Jieba\n",
    ")\n"
   ]
  },
  {
   "cell_type": "code",
   "execution_count": null,
   "id": "521478f4-2a16-410f-b008-74ece6abd77b",
   "metadata": {},
   "outputs": [],
   "source": [
    "from llama_index import get_response_synthesizer\n",
    "from llama_index.indices.vector_store.retrievers import VectorIndexRetriever\n",
    "from llama_index.query_engine.retriever_query_engine import (\n",
    "    RetrieverQueryEngine,\n",
    ")\n",
    "\n",
    "# build retriever\n",
    "retriever = VectorIndexRetriever(\n",
    "    index=index,\n",
    "    similarity_top_k=3,\n",
    "    vector_store_query_mode=\"default\",\n",
    "    filters=[ExactMatchFilter(key=\"name\", value=\"paul graham\")],\n",
    "    alpha=None,\n",
    "    doc_ids=None,\n",
    ")\n",
    "\n",
    "# build query engine\n",
    "query_engine = RetrieverQueryEngine(\n",
    "    retriever=retriever, response_synthesizer=get_response_synthesizer()\n",
    ")\n",
    "\n",
    "# query\n",
    "response = query_engine.query(\"what did the author do growing up?\")"
   ]
  },
  {
   "cell_type": "markdown",
   "id": "8db7d3ca-c947-43a7-bc03-202164a188e4",
   "metadata": {
    "ExecutionIndicator": {
     "show": false
    },
    "execution": {
     "iopub.execute_input": "2024-06-17T15:39:27.452420Z",
     "iopub.status.busy": "2024-06-17T15:39:27.452096Z",
     "iopub.status.idle": "2024-06-17T15:39:46.634401Z",
     "shell.execute_reply": "2024-06-17T15:39:46.633872Z",
     "shell.execute_reply.started": "2024-06-17T15:39:27.452399Z"
    },
    "tags": []
   },
   "source": [
    "### Retriever result"
   ]
  },
  {
   "cell_type": "code",
   "execution_count": null,
   "id": "1b54c86c-9ad6-46cb-90d6-b8b12be8680a",
   "metadata": {
    "ExecutionIndicator": {
     "show": true
    },
    "execution": {
     "iopub.execute_input": "2024-06-17T16:28:33.275062Z",
     "iopub.status.busy": "2024-06-17T16:28:33.274728Z",
     "iopub.status.idle": "2024-06-17T16:28:33.322435Z",
     "shell.execute_reply": "2024-06-17T16:28:33.321998Z",
     "shell.execute_reply.started": "2024-06-17T16:28:33.275042Z"
    },
    "tags": []
   },
   "outputs": [],
   "source": [
    "nodes = bm25_retriever.retrieve(\"虚拟资源包括哪些种类\")\n",
    "for node in nodes:\n",
    "    display_source_node(node)"
   ]
  },
  {
   "cell_type": "markdown",
   "id": "e4b44171-3790-473f-ae97-2ea23716ba7c",
   "metadata": {},
   "source": [
    "### Query Engine"
   ]
  },
  {
   "cell_type": "code",
   "execution_count": 79,
   "id": "7cf6d0dc-4170-45dd-bbf6-ddd88f78c255",
   "metadata": {
    "ExecutionIndicator": {
     "show": true
    },
    "execution": {
     "iopub.execute_input": "2024-06-17T16:28:40.165761Z",
     "iopub.status.busy": "2024-06-17T16:28:40.165414Z",
     "iopub.status.idle": "2024-06-17T16:28:40.169339Z",
     "shell.execute_reply": "2024-06-17T16:28:40.168863Z",
     "shell.execute_reply.started": "2024-06-17T16:28:40.165742Z"
    },
    "tags": []
   },
   "outputs": [],
   "source": [
    "from llama_index.core import VectorStoreIndex, get_response_synthesizer\n",
    "from llama_index.core.retrievers import VectorIndexRetriever\n",
    "from llama_index.core.query_engine import RetrieverQueryEngine\n",
    "from llama_index.core.vector_stores.types import MetadataFilters\n",
    "\n",
    "\n",
    "def perform_query(vector_index, query_content, current_keyword):\n",
    "    # 更新查询引擎的过滤条件\n",
    "    query_engine = RetrieverQueryEngine(\n",
    "        retriever=bm25_retriever\n",
    "        # filters=MetadataFilters(\n",
    "        #     filters=[{\"key\":\"document\", \n",
    "        #               \"value\":current_keyword}]\n",
    "        # ),\n",
    "        # similarity_top_k=3\n",
    "    )\n",
    "    # 执行查询\n",
    "    response = query_engine.query(query_content)\n",
    "    return response"
   ]
  },
  {
   "cell_type": "code",
   "execution_count": 80,
   "id": "a6accbf7-4aff-4b4a-9f28-ce8fa39f7ee1",
   "metadata": {
    "execution": {
     "iopub.execute_input": "2024-06-17T16:28:44.621075Z",
     "iopub.status.busy": "2024-06-17T16:28:44.620750Z",
     "iopub.status.idle": "2024-06-17T16:42:57.680720Z",
     "shell.execute_reply": "2024-06-17T16:42:57.680216Z",
     "shell.execute_reply.started": "2024-06-17T16:28:44.621056Z"
    },
    "tags": []
   },
   "outputs": [
    {
     "name": "stderr",
     "output_type": "stream",
     "text": [
      "100%|██████████| 103/103 [14:13<00:00,  8.28s/it]\n"
     ]
    }
   ],
   "source": [
    "#读取问题\n",
    "question = read_jsonl('./aiops2024-challenge-dataset/question.jsonl')\n",
    "results = [\n",
    "    {\n",
    "        \"id\": q['id'],\n",
    "        \"query\": q['query'],\n",
    "        \"answer\": perform_query(vector_index, q['query'], q['document'])\n",
    "    } for q in tqdm(question)\n",
    "]"
   ]
  },
  {
   "cell_type": "code",
   "execution_count": 81,
   "id": "d2befa17-759d-43fa-96af-f893a429ad24",
   "metadata": {
    "execution": {
     "iopub.execute_input": "2024-06-17T16:42:57.681969Z",
     "iopub.status.busy": "2024-06-17T16:42:57.681663Z",
     "iopub.status.idle": "2024-06-17T16:42:57.688991Z",
     "shell.execute_reply": "2024-06-17T16:42:57.688533Z",
     "shell.execute_reply.started": "2024-06-17T16:42:57.681947Z"
    }
   },
   "outputs": [
    {
     "name": "stderr",
     "output_type": "stream",
     "text": [
      "100%|██████████| 103/103 [00:00<00:00, 444001.35it/s]\n"
     ]
    }
   ],
   "source": [
    "final_result = [\n",
    "    {\n",
    "        \"id\": q['id'],\n",
    "        \"query\": q['query'],\n",
    "        \"answer\": q['answer'].response\n",
    "    } for q in tqdm(results)\n",
    "]\n",
    "write_jsonl(final_result)"
   ]
  },
  {
   "cell_type": "code",
   "execution_count": 82,
   "id": "dcc1b11e-e80e-4308-aece-75725d23fda6",
   "metadata": {
    "ExecutionIndicator": {
     "show": false
    },
    "execution": {
     "iopub.execute_input": "2024-06-17T16:42:57.689889Z",
     "iopub.status.busy": "2024-06-17T16:42:57.689660Z",
     "iopub.status.idle": "2024-06-17T16:42:57.929880Z",
     "shell.execute_reply": "2024-06-17T16:42:57.929388Z",
     "shell.execute_reply.started": "2024-06-17T16:42:57.689873Z"
    },
    "tags": []
   },
   "outputs": [
    {
     "name": "stdout",
     "output_type": "stream",
     "text": [
      "提交成功！提交 ID:  ('1718642577909', 146)\n"
     ]
    }
   ],
   "source": [
    "from submit import submit\n",
    "submission_id = submit(final_result,\n",
    "    judge_server = \"http://judge.aiops-challenge.com\",\n",
    "    contest = \"1780211530478944282\",\n",
    "    ticket = \"1799659042575011879\")\n",
    "if submission_id:\n",
    "    print(\"提交成功！提交 ID: \", submission_id)\n",
    "else:\n",
    "    print(\"提交失败\")\n",
    "    \n",
    "# 1718515109355\n",
    "# 1718542978458 vector query\n",
    "# 1718642577909 bm25\n",
    "# python submit.py -c 1780211530478944282 -k 1799659042575011879 -i 1718642577909"
   ]
  }
 ],
 "metadata": {
  "kernelspec": {
   "display_name": "Python 3 (ipykernel)",
   "language": "python",
   "name": "python3"
  },
  "language_info": {
   "codemirror_mode": {
    "name": "ipython",
    "version": 3
   },
   "file_extension": ".py",
   "mimetype": "text/x-python",
   "name": "python",
   "nbconvert_exporter": "python",
   "pygments_lexer": "ipython3",
   "version": "3.10.14"
  }
 },
 "nbformat": 4,
 "nbformat_minor": 5
}
