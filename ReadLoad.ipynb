{
 "cells": [
  {
   "cell_type": "code",
   "execution_count": 1,
   "id": "1a3fb7af-7a36-4ad8-a32e-539d93643b7d",
   "metadata": {
    "ExecutionIndicator": {
     "show": false
    },
    "tags": []
   },
   "outputs": [],
   "source": [
    "import jsonlines\n",
    "import json\n",
    "import nest_asyncio\n",
    "nest_asyncio.apply()"
   ]
  },
  {
   "cell_type": "code",
   "execution_count": null,
   "id": "258939ca-f222-4971-b77d-b524dcdced2d",
   "metadata": {
    "ExecutionIndicator": {
     "show": false
    },
    "tags": []
   },
   "outputs": [],
   "source": [
    "# load query\n",
    "def read_jsonl(path):\n",
    "    content = []\n",
    "    with jsonlines.open(path, \"r\") as json_file:\n",
    "        for obj in json_file.iter(type=dict, skip_invalid=True):\n",
    "            content.append(obj)\n",
    "    return content\n",
    "\n",
    "\n",
    "# write result\n",
    "def write_jsonl(results,submissionid):\n",
    "    with open(f'result_{submissionid}.jsonl', 'w',encoding='utf-8') as outfile:\n",
    "        for entry in results:\n",
    "            json.dump(entry, outfile, ensure_ascii=False)\n",
    "            outfile.write('\\n')\n"
   ]
  },
  {
   "cell_type": "code",
   "execution_count": null,
   "id": "8a64c2c4-6d15-4070-8b97-c412bad6b3fe",
   "metadata": {},
   "outputs": [],
   "source": []
  },
  {
   "cell_type": "code",
   "execution_count": null,
   "id": "a53b305d-d5c7-4f34-a61c-49d9d0524d2d",
   "metadata": {},
   "outputs": [],
   "source": []
  }
 ],
 "metadata": {
  "kernelspec": {
   "display_name": "Python 3 (ipykernel)",
   "language": "python",
   "name": "python3"
  },
  "language_info": {
   "codemirror_mode": {
    "name": "ipython",
    "version": 3
   },
   "file_extension": ".py",
   "mimetype": "text/x-python",
   "name": "python",
   "nbconvert_exporter": "python",
   "pygments_lexer": "ipython3",
   "version": "3.10.14"
  }
 },
 "nbformat": 4,
 "nbformat_minor": 5
}
