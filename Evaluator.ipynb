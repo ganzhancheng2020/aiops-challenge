{
 "cells": [
  {
   "cell_type": "code",
   "execution_count": null,
   "id": "deac84a5-fc1f-4a86-a0c5-37a35432f175",
   "metadata": {},
   "outputs": [],
   "source": [
    "qa_dataset = generate_question_context_pairs(\n",
    "    nodes,\n",
    "    llm=llm,\n",
    "    num_questions_per_chunk=2\n",
    ")"
   ]
  },
  {
   "cell_type": "code",
   "execution_count": null,
   "id": "1ecd4fef-baf3-4724-a68d-b9b5938eb976",
   "metadata": {},
   "outputs": [],
   "source": [
    "#对检索的评估：\n",
    "retriever = vector_index.as_retriever(similarity_top_k=2)"
   ]
  }
 ],
 "metadata": {
  "kernelspec": {
   "display_name": "Python 3 (ipykernel)",
   "language": "python",
   "name": "python3"
  },
  "language_info": {
   "codemirror_mode": {
    "name": "ipython",
    "version": 3
   },
   "file_extension": ".py",
   "mimetype": "text/x-python",
   "name": "python",
   "nbconvert_exporter": "python",
   "pygments_lexer": "ipython3",
   "version": "3.10.14"
  }
 },
 "nbformat": 4,
 "nbformat_minor": 5
}
